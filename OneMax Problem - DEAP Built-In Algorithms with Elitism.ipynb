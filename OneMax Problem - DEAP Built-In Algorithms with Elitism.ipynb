{
 "cells": [
  {
   "cell_type": "code",
   "execution_count": null,
   "metadata": {},
   "outputs": [],
   "source": [
    "from deap import base\n",
    "from deap import creator\n",
    "from deap import tools\n",
    "from deap import algorithms\n",
    "\n",
    "import random\n",
    "import numpy\n",
    "\n",
    "import matplotlib.pyplot as plt\n",
    "import seaborn as sns\n",
    "\n",
    "import statistics"
   ]
  },
  {
   "cell_type": "code",
   "execution_count": null,
   "metadata": {},
   "outputs": [],
   "source": [
    "# problem constants\n",
    "ONE_MAX_LENGTH = 100 # length of bit string to be optimized\n",
    "\n",
    "# Genetic Algorithm constants:\n",
    "POPULATION_SIZE = 200 # number of individuals in population\n",
    "P_CROSSOVER = 0.9 # probability for crossover\n",
    "P_MUTATION = 0.1 # probability for mutating and individual\n",
    "MAX_GENERATIONS = 50 # stopping condition\n",
    "HALL_OF_FAME_SIZE = 10 # fixed best individuals"
   ]
  },
  {
   "cell_type": "code",
   "execution_count": null,
   "metadata": {},
   "outputs": [],
   "source": [
    "RANDOM_SEED = 42\n",
    "random.seed(RANDOM_SEED)"
   ]
  },
  {
   "cell_type": "code",
   "execution_count": null,
   "metadata": {},
   "outputs": [],
   "source": [
    "# configure statistics\n",
    "stats = tools.Statistics(lambda ind: ind.fitness.values)\n",
    "stats.register(\"max\", numpy.max)\n",
    "stats.register(\"avg\", numpy.mean)"
   ]
  },
  {
   "cell_type": "code",
   "execution_count": null,
   "metadata": {},
   "outputs": [],
   "source": [
    "# configure elitism\n",
    "hof = tools.HallOfFame(HALL_OF_FAME_SIZE)"
   ]
  },
  {
   "cell_type": "code",
   "execution_count": null,
   "metadata": {},
   "outputs": [],
   "source": [
    "# create fitness function\n",
    "creator.create(\"FitnessMax\", base.Fitness, weights=(1.0,))\n",
    "creator.create(\"Individual\", list, fitness=creator.FitnessMax)\n",
    "\n",
    "\n",
    "# fitness function definition\n",
    "def oneMaxFitness(individual):\n",
    "    return sum(individual), # return a tuple\n",
    "\n",
    "\n",
    "toolbox = base.Toolbox()\n",
    "\n",
    "# create genetic operators\n",
    "toolbox.register(\"evaluate\", oneMaxFitness)\n",
    "toolbox.register(\"select\", tools.selTournament, tournsize=3)\n",
    "toolbox.register(\"mate\", tools.cxOnePoint)\n",
    "toolbox.register(\"mutate\", tools.mutFlipBit, indpb=1.0/ONE_MAX_LENGTH)\n",
    "\n",
    "# create individual\n",
    "toolbox.register(\"zeroOrOne\", random.randint, 0, 1)\n",
    "toolbox.register(\"individualCreator\", tools.initRepeat, creator.Individual, toolbox.zeroOrOne, ONE_MAX_LENGTH)\n",
    "\n",
    "# create population\n",
    "toolbox.register(\"populationCreator\", tools.initRepeat, list, toolbox.individualCreator)\n",
    "population = toolbox.populationCreator(n=POPULATION_SIZE)"
   ]
  },
  {
   "cell_type": "code",
   "execution_count": null,
   "metadata": {},
   "outputs": [],
   "source": [
    "population, logbook = algorithms.eaSimple(population, \n",
    "                                          toolbox, \n",
    "                                          cxpb=P_CROSSOVER, \n",
    "                                          mutpb=P_MUTATION, \n",
    "                                          ngen=MAX_GENERATIONS,\n",
    "                                          stats=stats,\n",
    "                                          halloffame=hof,\n",
    "                                          verbose=True)"
   ]
  },
  {
   "cell_type": "code",
   "execution_count": null,
   "metadata": {},
   "outputs": [],
   "source": [
    "print(\"Hall of Fame Individuals = \", *hof.items, sep=\"\\n\")\n",
    "print(\"Best Ever Individual = \", hof.items[0])"
   ]
  },
  {
   "cell_type": "code",
   "execution_count": null,
   "metadata": {},
   "outputs": [],
   "source": [
    "maxFitnessValues, meanFitnessValues = logbook.select(\"max\", \"avg\")\n",
    "\n",
    "# plot statistics:\n",
    "sns.set_style(\"whitegrid\")\n",
    "plt.plot(maxFitnessValues, color='red')\n",
    "plt.plot(meanFitnessValues, color='green')\n",
    "plt.xlabel('Generation')\n",
    "plt.ylabel('Max / Average Fitness')\n",
    "plt.title('Max and Average Fitness over Generations')\n",
    "plt.show()"
   ]
  },
  {
   "cell_type": "markdown",
   "metadata": {},
   "source": [
    "### These things can change the results:\n",
    "- **Population size** as it increases, accelerates the genetic flow\n",
    "- **Max generations** as population decreases it's important to increase the number of generations\n",
    "- **Two point crossover operator** it can increase the time of convergence in binary string representation cases\n",
    "- **Probability mutation** if indpb is high, as higher the probability mutation more random could be the solution, maybe never reaching the optimal solution. Warning.\n",
    "- **Tourment size** as increases it can result in less diversity population because the chance of weak individuals being selected diminishes. As higher, it is important to allow higher probability mutation and indpb.\n",
    "- **Roulette Wheel selection** the best solution up to now could be forgotten, at least temporarily, mainly when differences between individuals are relatively small, so there is a better chance for weaker individuals to be selected. Although, the average fitness value keeps increasing. Use elitism to prevent this behaviour."
   ]
  }
 ],
 "metadata": {
  "kernelspec": {
   "display_name": "Python 3",
   "language": "python",
   "name": "python3"
  },
  "language_info": {
   "codemirror_mode": {
    "name": "ipython",
    "version": 3
   },
   "file_extension": ".py",
   "mimetype": "text/x-python",
   "name": "python",
   "nbconvert_exporter": "python",
   "pygments_lexer": "ipython3",
   "version": "3.7.6"
  }
 },
 "nbformat": 4,
 "nbformat_minor": 4
}
